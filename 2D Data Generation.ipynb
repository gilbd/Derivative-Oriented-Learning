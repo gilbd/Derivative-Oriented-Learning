{
 "cells": [
  {
   "cell_type": "markdown",
   "metadata": {},
   "source": [
    "# Derivatives-Oriented Self-Supervision"
   ]
  },
  {
   "cell_type": "markdown",
   "metadata": {},
   "source": [
    "The following notebook will accompany my research.  \n",
    "In this research, I'd like to introduce a novel framework to recognize ODE from data.  \n",
    "In further steps, I'll compare my method with the state-of-the-art deep learning model."
   ]
  },
  {
   "cell_type": "markdown",
   "metadata": {},
   "source": [
    "# 0. Imports "
   ]
  },
  {
   "cell_type": "code",
   "execution_count": 1,
   "metadata": {
    "ExecuteTime": {
     "end_time": "2021-02-09T10:15:13.097604Z",
     "start_time": "2021-02-09T10:15:13.076652Z"
    }
   },
   "outputs": [],
   "source": [
    "import numpy as np\n",
    "import scipy\n",
    "import pandas as pd\n",
    "import seaborn as sns\n",
    "import matplotlib.pyplot as plt\n",
    "from tqdm import tqdm_notebook as tqdm\n",
    "\n",
    "sns.set(style='darkgrid')\n",
    "%matplotlib ipympl\n",
    "\n",
    "np.random.seed(42)"
   ]
  },
  {
   "cell_type": "markdown",
   "metadata": {},
   "source": [
    "# 1. Data Generation "
   ]
  },
  {
   "cell_type": "markdown",
   "metadata": {},
   "source": [
    "In this section I'll generate a data tables for the experiments.  \n",
    "I'll use the a simple ODE the get data:  \n",
    "$$\n",
    "\\frac{dy}{dx} = y + x^2\n",
    "$$\n",
    "I'll solve this equation using Runge-Kutta 4th order method:  \n",
    "For $$ \n",
    "\\frac{dy}{dx} = f(x_i, y_i)  \n",
    "$$\n",
    "The solution calculated as follow:\n",
    "$$\n",
    "K_1 = hf(x_i, y_i) \\\\\n",
    "K_2 = hf(x_i + \\frac{h}{2}, y_i + \\frac{k_1}{2})  \\\\  \n",
    "K_3 = hf(x_i, y_i + \\frac{k_2}{2})  \\\\\n",
    "K_4 = hf(x_i, y_i + k_3) \\\\\n",
    "y_{i+1} = y_i + \\frac{k_1}{6} + \\frac{k_2}{3} + \\frac{k_3}{3} + \\frac{k_4}{6} + O(h^5)  \\\\\n",
    "$$"
   ]
  },
  {
   "cell_type": "code",
   "execution_count": 2,
   "metadata": {
    "ExecuteTime": {
     "end_time": "2021-02-09T10:14:27.738680Z",
     "start_time": "2021-02-09T10:14:27.732682Z"
    }
   },
   "outputs": [],
   "source": [
    "def f(x, y):\n",
    "    return y + x ** 2\n",
    "\n",
    "def runge_kutta(x0, y0, x, h):\n",
    "    y = y0\n",
    "    steps = int((x - x0) / h)\n",
    "    for i in range(0, steps):\n",
    "        k1 = h * f(x, y)\n",
    "        \n",
    "        k2 = h * f(x + (h / 2), y + k1 / 2)\n",
    "        \n",
    "        k3 = h * f(x + (h / 2), y + k2 / 2)\n",
    "        \n",
    "        k4 = h * f(x + h, y + k3)\n",
    "        \n",
    "        y = y + k1/6 + k2/3 + k3/3 + k4/6\n",
    "        x0 = x0 + h\n",
    "    \n",
    "    return y"
   ]
  },
  {
   "cell_type": "code",
   "execution_count": 3,
   "metadata": {
    "ExecuteTime": {
     "end_time": "2021-02-09T10:14:27.866326Z",
     "start_time": "2021-02-09T10:14:27.858327Z"
    }
   },
   "outputs": [
    {
     "data": {
      "text/plain": [
       "10.047666545097762"
      ]
     },
     "execution_count": 3,
     "metadata": {},
     "output_type": "execute_result"
    }
   ],
   "source": [
    "x0 = 0\n",
    "y0 = 3\n",
    "h = 0.1\n",
    "x1 = 1\n",
    "\n",
    "runge_kutta(x0, y0, x1, h)"
   ]
  },
  {
   "cell_type": "code",
   "execution_count": 4,
   "metadata": {
    "ExecuteTime": {
     "end_time": "2021-02-09T10:14:28.023945Z",
     "start_time": "2021-02-09T10:14:28.009951Z"
    }
   },
   "outputs": [],
   "source": [
    "x1 = np.linspace(0, 10, 100)\n",
    "h1 = 0.1\n",
    "y1 = [3]\n",
    "\n",
    "\n",
    "for i in range(len(x1) - 1):\n",
    "    y_next = runge_kutta(x1[i], y1[i], x1[i+1], h1)\n",
    "    y1.append(y_next)"
   ]
  },
  {
   "cell_type": "markdown",
   "metadata": {},
   "source": [
    "Now I'll create another track with different initial values for comparison:"
   ]
  },
  {
   "cell_type": "code",
   "execution_count": 5,
   "metadata": {
    "ExecuteTime": {
     "end_time": "2021-02-09T10:14:28.587531Z",
     "start_time": "2021-02-09T10:14:28.573481Z"
    }
   },
   "outputs": [],
   "source": [
    "x2 = np.linspace(0, 10, 100)\n",
    "h2 = 0.1\n",
    "y2 = [6]\n",
    "\n",
    "for i in range(len(x2) - 1):\n",
    "    y_next = runge_kutta(x2[i], y2[i], x2[i+1], h2)\n",
    "    y2.append(y_next)"
   ]
  },
  {
   "cell_type": "code",
   "execution_count": 6,
   "metadata": {
    "ExecuteTime": {
     "end_time": "2021-02-09T10:14:28.765833Z",
     "start_time": "2021-02-09T10:14:28.704804Z"
    }
   },
   "outputs": [
    {
     "data": {
      "application/vnd.jupyter.widget-view+json": {
       "model_id": "0fd0543a9ffb42a7bd80a673c9d39f5d",
       "version_major": 2,
       "version_minor": 0
      },
      "text/plain": [
       "Canvas(toolbar=Toolbar(toolitems=[('Home', 'Reset original view', 'home', 'home'), ('Back', 'Back to previous …"
      ]
     },
     "metadata": {},
     "output_type": "display_data"
    }
   ],
   "source": [
    "import matplotlib.pyplot as plt\n",
    "from mpl_toolkits.mplot3d import Axes3D\n",
    "\n",
    "subsut_size=20\n",
    "\n",
    "fig = plt.figure()\n",
    "ax = fig.add_subplot(1,2,1)\n",
    "ax.scatter(x1[:subsut_size],y1[:subsut_size])\n",
    "ax = fig.add_subplot(1,2,2)\n",
    "ax.scatter(x2[:subsut_size],y2[:subsut_size])\n",
    "plt.show()"
   ]
  },
  {
   "cell_type": "markdown",
   "metadata": {},
   "source": [
    "We've got 2 sets of points, each set represents different initial values.  \n",
    "In order to determine if those sets follow the same D-th order ODE, we want to find linear combination such that:  \n",
    "$$ \\sum_{i=0}^D{\\alpha_i y^{(i)}_j} : j \\in [0,N] | y_j = y(x_j) $$  \n",
    "Thus, we can use a regression model (_Linear-Regression_ for linear ODEs, or DNNs elsewhere) to find those $ \\alpha $s.  \n",
    "Then, we can use those weights to feed-forward the other set, and assume to get all the values to be 0 ($\\pm \\epsilon$)."
   ]
  },
  {
   "cell_type": "markdown",
   "metadata": {},
   "source": [
    "Now, let's create a derivative function:  \n",
    "Assume our data created by some: $ y = f(x_1,x_2, ... ,x_n) $, we'd like to calculate the following partial derivatives:  \n",
    "$$\n",
    "\\frac{\\partial z}{\\partial x_i} = \\lim_{h\\to 0}\\frac{f(x_1, ..., x_i + h, ..., x_n) - f(x_1, ..., x_i, ..., x_n)}{h}\n",
    "$$  \n"
   ]
  },
  {
   "cell_type": "code",
   "execution_count": 7,
   "metadata": {
    "ExecuteTime": {
     "end_time": "2021-02-09T10:14:34.426662Z",
     "start_time": "2021-02-09T10:14:34.419669Z"
    }
   },
   "outputs": [],
   "source": [
    "def derivative(x, y, i):\n",
    "    \"\"\"\n",
    "    Assume x, y,  sorted by x\n",
    "    return f'(x_i, y_i)\n",
    "    \"\"\"\n",
    "    return (y[i+1] - y[i]) / (x[i+1] - x[i])"
   ]
  },
  {
   "cell_type": "code",
   "execution_count": 8,
   "metadata": {
    "ExecuteTime": {
     "end_time": "2021-02-09T10:14:34.616709Z",
     "start_time": "2021-02-09T10:14:34.593712Z"
    }
   },
   "outputs": [],
   "source": [
    "x1 = np.linspace(0, 10, 1000)\n",
    "h1 = 0.1\n",
    "y1 = [3]\n",
    "\n",
    "\n",
    "for i in range(len(x1) - 1):\n",
    "    y_next = runge_kutta(x1[i], y1[i], x1[i+1], h1)\n",
    "    y1.append(y_next)"
   ]
  },
  {
   "cell_type": "code",
   "execution_count": 9,
   "metadata": {
    "ExecuteTime": {
     "end_time": "2021-02-09T10:14:35.060700Z",
     "start_time": "2021-02-09T10:14:35.042737Z"
    }
   },
   "outputs": [],
   "source": [
    "x2 = np.linspace(0, 10, 1000)\n",
    "h2 = 0.1\n",
    "y2 = [6]\n",
    "\n",
    "for i in range(len(x2) - 1):\n",
    "    y_next = runge_kutta(x2[i], y2[i], x2[i+1], h2)\n",
    "    y2.append(y_next)"
   ]
  },
  {
   "cell_type": "code",
   "execution_count": 10,
   "metadata": {
    "ExecuteTime": {
     "end_time": "2021-02-09T10:14:35.633493Z",
     "start_time": "2021-02-09T10:14:35.604539Z"
    }
   },
   "outputs": [],
   "source": [
    "y1_d1 = [derivative(x1, y1, i) for i in range(len(x1) - 1)]\n",
    "y1_d2 = [derivative(x1, y1_d1, i) for i in range(len(x1) - 2)]\n",
    "y1_d3 = [derivative(x1, y1_d2, i) for i in range(len(x1) - 3)]\n",
    "\n",
    "y2_d1 = [derivative(x2, y2, i) for i in range(len(x2) - 1)]\n",
    "y2_d2 = [derivative(x2, y2_d1, i) for i in range(len(x2) - 2)]\n",
    "y2_d3 = [derivative(x2, y2_d2, i) for i in range(len(x2) - 3)]"
   ]
  },
  {
   "cell_type": "code",
   "execution_count": 11,
   "metadata": {
    "ExecuteTime": {
     "end_time": "2021-02-09T10:14:36.234650Z",
     "start_time": "2021-02-09T10:14:36.211654Z"
    }
   },
   "outputs": [],
   "source": [
    "x_train1 = np.vstack([y1[:-3], y1_d1[:-2], y1_d2[:-1], y1_d3]).T\n",
    "x_train2 = np.vstack([y2[:-3], y2_d1[:-2], y2_d2[:-1], y2_d3]).T\n",
    "\n",
    "y_train1 = np.zeros(x_train1.shape[0])\n",
    "y_train2 = np.zeros(x_train2.shape[0])\n",
    "# y_train1 = np.random.normal(scale=1e-5,size=x_train1.shape[0])"
   ]
  },
  {
   "cell_type": "code",
   "execution_count": 12,
   "metadata": {
    "ExecuteTime": {
     "end_time": "2021-02-09T10:14:36.361022Z",
     "start_time": "2021-02-09T10:14:36.344024Z"
    }
   },
   "outputs": [],
   "source": [
    "x_train = np.vstack((x_train1, x_train2))\n",
    "y_train = np.hstack((y_train1, y_train2))"
   ]
  },
  {
   "cell_type": "code",
   "execution_count": 13,
   "metadata": {
    "ExecuteTime": {
     "end_time": "2021-02-09T10:14:36.628859Z",
     "start_time": "2021-02-09T10:14:36.608859Z"
    }
   },
   "outputs": [
    {
     "name": "stdout",
     "output_type": "stream",
     "text": [
      "(1994, 4)\n"
     ]
    },
    {
     "data": {
      "text/plain": [
       "((997, 4), (997, 4))"
      ]
     },
     "execution_count": 13,
     "metadata": {},
     "output_type": "execute_result"
    }
   ],
   "source": [
    "print(x_train.shape)\n",
    "x_train1.shape, x_train2.shape"
   ]
  },
  {
   "cell_type": "markdown",
   "metadata": {},
   "source": [
    "While most of the self-supervised learning implementations over sequences problems assuming auto-regressive model:\n",
    "x_{t+1} =f(x_t,x_{t-1} ,…,x_{t-p} )\n",
    "to predict following parts of the data (words, pixels, graph edges etc. [5]), we'll use subsets of the data to form a differential equation that fits to the observation's behavior. "
   ]
  },
  {
   "cell_type": "code",
   "execution_count": 14,
   "metadata": {
    "ExecuteTime": {
     "end_time": "2021-02-09T10:34:31.072456Z",
     "start_time": "2021-02-09T10:34:31.052464Z"
    }
   },
   "outputs": [
    {
     "name": "stdout",
     "output_type": "stream",
     "text": [
      "Score: 1.0\n",
      "coefficients: [0. 0. 0. 0.]\n"
     ]
    },
    {
     "data": {
      "text/plain": [
       "LinearRegression()"
      ]
     },
     "execution_count": 14,
     "metadata": {},
     "output_type": "execute_result"
    }
   ],
   "source": [
    "from sklearn.linear_model import LinearRegression\n",
    "\n",
    "def train_lr(x, y):\n",
    "    lr = LinearRegression(fit_intercept=True).fit(x, y)\n",
    "    y_pred = lr.predict(x)\n",
    "    print(f'Score: {lr.score(x, y)}')\n",
    "    print(f'coefficients: {lr.coef_}')\n",
    "    return lr\n",
    "    \n",
    "train_lr(x_train, y_train)"
   ]
  },
  {
   "cell_type": "markdown",
   "metadata": {},
   "source": [
    "Now, let's try DNN:"
   ]
  },
  {
   "cell_type": "code",
   "execution_count": 15,
   "metadata": {
    "ExecuteTime": {
     "end_time": "2021-02-09T10:14:39.089205Z",
     "start_time": "2021-02-09T10:14:37.872463Z"
    }
   },
   "outputs": [],
   "source": [
    "import torch\n",
    "import torch.nn as nn\n",
    "\n",
    "class RegressionNet(nn.Module):\n",
    "    def __init__(self, input_size, hidden_size, output_size):\n",
    "        super(RegressionNet, self).__init__()\n",
    "        self.input_layer = nn.Linear(input_size, hidden_size)\n",
    "        self.activation = nn.ReLU()\n",
    "        self.hidden = nn.Linear(hidden_size, output_size)\n",
    "        \n",
    "    def forward(self, x):\n",
    "        x = self.input_layer(x)\n",
    "        x = self.activation(x)\n",
    "        x = self.hidden(x)\n",
    "        return x"
   ]
  },
  {
   "cell_type": "code",
   "execution_count": 16,
   "metadata": {
    "ExecuteTime": {
     "end_time": "2021-02-09T10:43:04.939296Z",
     "start_time": "2021-02-09T10:43:04.925268Z"
    }
   },
   "outputs": [],
   "source": [
    "input_size = x_train.shape[1]\n",
    "hidden_size = 20\n",
    "output_size = 1\n",
    "model = RegressionNet(input_size, hidden_size, output_size)"
   ]
  },
  {
   "cell_type": "code",
   "execution_count": 17,
   "metadata": {
    "ExecuteTime": {
     "end_time": "2021-02-09T10:43:05.318496Z",
     "start_time": "2021-02-09T10:43:05.300491Z"
    }
   },
   "outputs": [],
   "source": [
    "def to_torch(x_train, y_train):\n",
    "    X = torch.from_numpy(x_train.astype(np.float32))\n",
    "    y = torch.from_numpy(y_train.astype(np.float32))\n",
    "    y = y.view(y.shape[0], 1)\n",
    "    return X, y"
   ]
  },
  {
   "cell_type": "code",
   "execution_count": 18,
   "metadata": {
    "ExecuteTime": {
     "end_time": "2021-02-09T10:43:06.398157Z",
     "start_time": "2021-02-09T10:43:06.270104Z"
    }
   },
   "outputs": [
    {
     "name": "stdout",
     "output_type": "stream",
     "text": [
      "epoch  10  loss =  0.0026805633679032326\n",
      "epoch  20  loss =  0.002501153852790594\n",
      "epoch  30  loss =  0.0023337078746408224\n",
      "epoch  40  loss =  0.0021774256601929665\n",
      "epoch  50  loss =  0.002031564712524414\n",
      "epoch  60  loss =  0.001895430264994502\n",
      "epoch  70  loss =  0.0017683719052001834\n",
      "epoch  80  loss =  0.0016497913748025894\n",
      "epoch  90  loss =  0.0015391299966722727\n",
      "epoch  100  loss =  0.0014358540065586567\n"
     ]
    }
   ],
   "source": [
    "def train_net(model, x_train, y_train):\n",
    "    # hyperparameters\n",
    "    learning_rate = 0.01\n",
    "    n_iters = 100\n",
    "\n",
    "    loss = nn.MSELoss()\n",
    "    optimizer = torch.optim.SGD(model.parameters(), lr=learning_rate)\n",
    "    \n",
    "    X, y = to_torch(x_train, y_train)\n",
    "\n",
    "    for epoch in range(n_iters):\n",
    "        # predict = forward pass with our model\n",
    "        y_predicted = model(X)\n",
    "\n",
    "        # loss\n",
    "        l = loss(y_predicted, y)\n",
    "\n",
    "        # calculate gradients = backward pass\n",
    "        l.backward()\n",
    "\n",
    "        # update weights\n",
    "        optimizer.step()\n",
    "\n",
    "        # zero the gradients after updating\n",
    "        optimizer.zero_grad()\n",
    "\n",
    "        if (epoch+1) % 10 == 0:\n",
    "    #         w, b = model.parameters()\n",
    "            print('epoch ', epoch+1,' loss = ', l.item())\n",
    "train_net(model, x_train, y_train)"
   ]
  },
  {
   "cell_type": "code",
   "execution_count": 19,
   "metadata": {
    "ExecuteTime": {
     "end_time": "2021-02-09T10:14:40.141203Z",
     "start_time": "2021-02-09T10:14:40.133200Z"
    }
   },
   "outputs": [
    {
     "data": {
      "text/plain": [
       "tensor(-0.0116, grad_fn=<MeanBackward0>)"
      ]
     },
     "execution_count": 19,
     "metadata": {},
     "output_type": "execute_result"
    }
   ],
   "source": [
    "y_predicted = model(to_torch(x_train,  y_train)[0])\n",
    "y_predicted.mean()"
   ]
  },
  {
   "cell_type": "code",
   "execution_count": 20,
   "metadata": {
    "ExecuteTime": {
     "end_time": "2021-02-09T10:14:44.946470Z",
     "start_time": "2021-02-09T10:14:44.926512Z"
    }
   },
   "outputs": [
    {
     "data": {
      "text/plain": [
       "Parameter containing:\n",
       "tensor([[ 0.0399,  0.0569, -0.0238,  0.0778, -0.2066,  0.1162, -0.1178, -0.2002,\n",
       "         -0.2036,  0.0946,  0.1467,  0.0899,  0.1924, -0.0259, -0.1464, -0.1230,\n",
       "         -0.0489,  0.1050, -0.2097,  0.0609]], requires_grad=True)"
      ]
     },
     "execution_count": 20,
     "metadata": {},
     "output_type": "execute_result"
    }
   ],
   "source": [
    "model.hidden.weight"
   ]
  },
  {
   "cell_type": "markdown",
   "metadata": {},
   "source": [
    "Great! now we got some non-trivial solution.  \n",
    "Let's try predict one set by learning the other:"
   ]
  },
  {
   "cell_type": "code",
   "execution_count": 21,
   "metadata": {
    "ExecuteTime": {
     "end_time": "2021-02-09T10:14:46.294872Z",
     "start_time": "2021-02-09T10:14:46.283872Z"
    }
   },
   "outputs": [],
   "source": [
    "x3 = np.linspace(0, 10, 1000)\n",
    "h3 = 0.1\n",
    "y3 = [6]\n",
    "\n",
    "for i in range(len(x3) - 1):\n",
    "    y_next = runge_kutta(x3[i], y3[i], x3[i+1], h3)\n",
    "    y3.append(y_next)"
   ]
  },
  {
   "cell_type": "code",
   "execution_count": 22,
   "metadata": {
    "ExecuteTime": {
     "end_time": "2021-02-09T10:14:46.656572Z",
     "start_time": "2021-02-09T10:14:46.640578Z"
    }
   },
   "outputs": [],
   "source": [
    "y3_d1 = [derivative(x3, y3, i) for i in range(len(x3) - 1)]\n",
    "y3_d2 = [derivative(x3, y3_d1, i) for i in range(len(x3) - 2)]\n",
    "y3_d3 = [derivative(x3, y3_d2, i) for i in range(len(x3) - 3)]"
   ]
  },
  {
   "cell_type": "code",
   "execution_count": 23,
   "metadata": {
    "ExecuteTime": {
     "end_time": "2021-02-09T10:14:47.291712Z",
     "start_time": "2021-02-09T10:14:47.275672Z"
    }
   },
   "outputs": [],
   "source": [
    "x_train3 = np.vstack([y3[:-3], y3_d1[:-2], y3_d2[:-1], y3_d3]).T\n",
    "y_train3 = np.zeros(x_train3.shape[0])\n",
    "\n",
    "x_train3 = torch.from_numpy(x_train3.astype(np.float32))\n",
    "y_train3 = torch.from_numpy(y_train3.astype(np.float32))\n",
    "y_train3 = y_train3.view(y_train3.shape[0], 1)"
   ]
  },
  {
   "cell_type": "code",
   "execution_count": 24,
   "metadata": {
    "ExecuteTime": {
     "end_time": "2021-02-09T10:45:03.498548Z",
     "start_time": "2021-02-09T10:45:03.482927Z"
    }
   },
   "outputs": [
    {
     "name": "stdout",
     "output_type": "stream",
     "text": [
      "0.0005894683999940753\n"
     ]
    }
   ],
   "source": [
    "def print_loss(model, x, y):\n",
    "    y_predicted = model(x)\n",
    "    l = nn.MSELoss()(y_predicted, y)\n",
    "    print(l.item())\n",
    "print_loss(model, x_train3, y_train3)"
   ]
  },
  {
   "cell_type": "markdown",
   "metadata": {},
   "source": [
    "Now, let's repeat the process using exact solutions: $y(x) = ce^x - x^2 -2x - 2$"
   ]
  },
  {
   "cell_type": "code",
   "execution_count": 25,
   "metadata": {
    "ExecuteTime": {
     "end_time": "2021-02-09T10:17:52.973685Z",
     "start_time": "2021-02-09T10:17:52.965685Z"
    }
   },
   "outputs": [],
   "source": [
    "def y_exact(x, c):\n",
    "    return c * np.exp(x) - x ** 2 - 2*x - 2"
   ]
  },
  {
   "cell_type": "code",
   "execution_count": 26,
   "metadata": {
    "ExecuteTime": {
     "end_time": "2021-02-09T10:45:27.807719Z",
     "start_time": "2021-02-09T10:45:27.780721Z"
    }
   },
   "outputs": [],
   "source": [
    "x_exac = [np.sort(np.random.random(1000) * 10) for i in range(3)]\n",
    "c = [1, 3, 6]\n",
    "y_exac = [[y_exact(ci, x_i) for x_i in x_exac_i] for ci, x_exac_i in zip(c, x_exac) ]"
   ]
  },
  {
   "cell_type": "code",
   "execution_count": 40,
   "metadata": {},
   "outputs": [],
   "source": [
    "def gather_derivatives(x, y):\n",
    "    d1 = [derivative(x, y, i) for i in range(len(x) - 1)]\n",
    "    d2 = [derivative(x, d1, i) for i in range(len(x) - 2)]\n",
    "    d3 = [derivative(x, d2, i) for i in range(len(x) - 3)]\n",
    "    x_ret = np.vstack([y[:-3], d1[:-2], d2[:-1], d3]).T\n",
    "    return x_ret"
   ]
  },
  {
   "cell_type": "code",
   "execution_count": 42,
   "metadata": {
    "ExecuteTime": {
     "end_time": "2021-02-09T10:45:28.778857Z",
     "start_time": "2021-02-09T10:45:28.757857Z"
    }
   },
   "outputs": [],
   "source": [
    "x_exac_train1, x_exac_train2, x_exac_train3 = \\\n",
    "    [gather_derivatives(x, y) for x, y in zip(x_exac, y_exac)]\n",
    "\n",
    "y_exac_train1 = np.zeros(x_train1.shape[0])\n",
    "y_exac_train2 = np.zeros(x_train2.shape[0])\n",
    "y_exac_train3 = np.zeros(x_train3.shape[0])\n",
    "# y_train1 = np.random.normal(scale=1e-5,size=x_train1.shape[0])"
   ]
  },
  {
   "cell_type": "code",
   "execution_count": 29,
   "metadata": {
    "ExecuteTime": {
     "end_time": "2021-02-09T10:45:30.805737Z",
     "start_time": "2021-02-09T10:45:30.789709Z"
    }
   },
   "outputs": [],
   "source": [
    "x_exac_train = np.vstack((x_exac_train1, x_exac_train2))\n",
    "y_exac_train = np.hstack((y_exac_train1, y_exac_train2))"
   ]
  },
  {
   "cell_type": "code",
   "execution_count": 30,
   "metadata": {
    "ExecuteTime": {
     "end_time": "2021-02-09T10:45:32.768712Z",
     "start_time": "2021-02-09T10:45:32.748689Z"
    }
   },
   "outputs": [
    {
     "name": "stdout",
     "output_type": "stream",
     "text": [
      "Score: 1.0\n",
      "coefficients: [0. 0. 0. 0.]\n"
     ]
    },
    {
     "data": {
      "text/plain": [
       "LinearRegression()"
      ]
     },
     "execution_count": 30,
     "metadata": {},
     "output_type": "execute_result"
    }
   ],
   "source": [
    "train_lr(x_exac_train, y_exac_train)"
   ]
  },
  {
   "cell_type": "code",
   "execution_count": 31,
   "metadata": {
    "ExecuteTime": {
     "end_time": "2021-02-09T10:45:35.157958Z",
     "start_time": "2021-02-09T10:45:35.028963Z"
    }
   },
   "outputs": [
    {
     "name": "stdout",
     "output_type": "stream",
     "text": [
      "epoch  10  loss =  0.004262304399162531\n",
      "epoch  20  loss =  0.003943100571632385\n",
      "epoch  30  loss =  0.0036478813271969557\n",
      "epoch  40  loss =  0.0033748343121260405\n",
      "epoch  50  loss =  0.0031222670804709196\n",
      "epoch  60  loss =  0.002888636663556099\n",
      "epoch  70  loss =  0.0026725162751972675\n",
      "epoch  80  loss =  0.002472585067152977\n",
      "epoch  90  loss =  0.0022876146249473095\n",
      "epoch  100  loss =  0.0021164834033697844\n"
     ]
    }
   ],
   "source": [
    "input_size = x_exac_train.shape[-1]\n",
    "hidden_size = 20\n",
    "output_size = 1\n",
    "model_exac = RegressionNet(input_size, hidden_size, output_size)\n",
    "train_net(model_exac, x_exac_train, y_exac_train)"
   ]
  },
  {
   "cell_type": "code",
   "execution_count": 32,
   "metadata": {
    "ExecuteTime": {
     "end_time": "2021-02-09T10:46:14.235944Z",
     "start_time": "2021-02-09T10:46:14.229943Z"
    }
   },
   "outputs": [
    {
     "name": "stdout",
     "output_type": "stream",
     "text": [
      "0.0009758505038917065\n"
     ]
    }
   ],
   "source": [
    "print_loss(model_exac, *to_torch(x_exac_train3, y_exac_train3))"
   ]
  },
  {
   "cell_type": "markdown",
   "metadata": {},
   "source": [
    "Now, let's create new samples from different ODE: $y'' = -y$. its exact solution is:\n",
    "$ y(x) = c_1cos(x) + c_2sin(x) $"
   ]
  },
  {
   "cell_type": "code",
   "execution_count": 33,
   "metadata": {},
   "outputs": [],
   "source": [
    "def harmonic_oscillator(x, c1, c2):\n",
    "    return c1*np.cos(x) + c2*np.sin(x)"
   ]
  },
  {
   "cell_type": "code",
   "execution_count": 35,
   "metadata": {},
   "outputs": [],
   "source": [
    "x_ho = np.sort(np.random.random(1000) * 10)\n",
    "c1, c2 = 1, 1\n",
    "y_ho = [harmonic_oscillator(x_i, c1, c2) for x_i in x_ho]"
   ]
  },
  {
   "cell_type": "code",
   "execution_count": 43,
   "metadata": {},
   "outputs": [],
   "source": [
    "x_ho_d = gather_derivatives(x_ho, y_ho)\n",
    "y_ho_d = np.zeros(x_ho_d.shape[0])"
   ]
  },
  {
   "cell_type": "code",
   "execution_count": 44,
   "metadata": {},
   "outputs": [
    {
     "name": "stdout",
     "output_type": "stream",
     "text": [
      "4393076736.0\n"
     ]
    }
   ],
   "source": [
    "print_loss(model_exac, *to_torch(x_ho_d, y_ho_d))"
   ]
  }
 ],
 "metadata": {
  "kernelspec": {
   "display_name": "Python 3",
   "language": "python",
   "name": "python3"
  },
  "language_info": {
   "codemirror_mode": {
    "name": "ipython",
    "version": 3
   },
   "file_extension": ".py",
   "mimetype": "text/x-python",
   "name": "python",
   "nbconvert_exporter": "python",
   "pygments_lexer": "ipython3",
   "version": "3.8.6"
  }
 },
 "nbformat": 4,
 "nbformat_minor": 4
}
